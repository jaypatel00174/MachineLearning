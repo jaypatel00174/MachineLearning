{
 "cells": [
  {
   "cell_type": "code",
   "execution_count": 1,
   "metadata": {},
   "outputs": [
    {
     "data": {
      "text/html": [
       "\n",
       "<script>\n",
       "  function code_toggle() {\n",
       "    if (code_shown){\n",
       "      $('div.input').hide('500');\n",
       "      $('#toggleButton').val('Show Code')\n",
       "    } else {\n",
       "      $('div.input').show('500');\n",
       "      $('#toggleButton').val('Hide Code')\n",
       "    }\n",
       "    code_shown = !code_shown\n",
       "  }\n",
       "\n",
       "  $( document ).ready(function(){\n",
       "    code_shown=false;\n",
       "    $('div.input').hide()\n",
       "  });\n",
       "</script>\n",
       "<form action=\"javascript:code_toggle()\"><input type=\"submit\" id=\"toggleButton\" value=\"Show Code\"></form>\n"
      ],
      "text/plain": [
       "<IPython.core.display.HTML object>"
      ]
     },
     "metadata": {},
     "output_type": "display_data"
    }
   ],
   "source": [
    "q = \"\"\"\n",
    "<script>\n",
    "  function code_toggle() {\n",
    "    if (code_shown){\n",
    "      $('div.input').hide('500');\n",
    "      $('#toggleButton').val('Show Code')\n",
    "    } else {\n",
    "      $('div.input').show('500');\n",
    "      $('#toggleButton').val('Hide Code')\n",
    "    }\n",
    "    code_shown = !code_shown\n",
    "  }\n",
    "\n",
    "  $( document ).ready(function(){\n",
    "    code_shown=false;\n",
    "    $('div.input').hide()\n",
    "  });\n",
    "</script>\n",
    "<form action=\"javascript:code_toggle()\"><input type=\"submit\" id=\"toggleButton\" value=\"Show Code\"></form>\n",
    "\"\"\"             \n",
    "from IPython.core.display import display, HTML\n",
    "display(HTML(q))"
   ]
  },
  {
   "cell_type": "markdown",
   "metadata": {},
   "source": [
    "# Decision Trees\n",
    "Decision Trees (DTs) are a non-parametric supervised learning method used for both classification and regression. in that we split population or sample into homogeneous sets (sub-populations) based on differentiator in input features."
   ]
  },
  {
   "cell_type": "markdown",
   "metadata": {},
   "source": [
    "### What is Decision tree?\n",
    "A decision tree is a tree where each node represents a feature(attribute), each link(branch) represents a decision(rule) and each leaf represents an outcome(categorical or continues value).<br>\n",
    "The whole idea is to create a tree for the entire data and process a single outcome at every leaf."
   ]
  },
  {
   "cell_type": "markdown",
   "metadata": {},
   "source": [
    "### Working\n",
    "Decision tree technique divides individual items of a group into n predetermined classes. Firstly, a feature is taken as the root node. This feature should best separate the classes. Then, each individual feature is divided into the given classes such that subpopulations called as nodes are generated. Same operation repeats on each new node obtained until no further separation of individuals are possible. Construction is such that each terminal node consists of individuals of a single class. More dipper understanding visit website: http://www.saedsayad.com/decision_tree_reg.htm for Decision tree - regression and http://www.saedsayad.com/decision_tree.htm for Decision Tree - Classification"
   ]
  },
  {
   "cell_type": "markdown",
   "metadata": {},
   "source": [
    "### Types of decision tree\n",
    "Types of decision tree is based on the type of target variable we have. It can be of two types:<br>\n",
    "1. Categorical Variable Decision Tree: - Decision Tree which has categorical target variable then it called as categorical variable decision tree. <br>\n",
    "2. Continuous Variable Decision Tree: - Decision Tree has continuous target variable then it is called as Continuous Variable Decision Tree."
   ]
  },
  {
   "cell_type": "markdown",
   "metadata": {},
   "source": [
    "### Methods to build decision tree\n",
    "There are couple of algorithms there to build a decision tree\n",
    "- ID3 (Iterative Dichotomiser 3)\n",
    "- C4.5\n",
    "- CART (Classification and Regression Trees)\n",
    "- CHAID (CHi-squared Automatic Interaction Detector)\n",
    "- MARS\n",
    "- Conditional Inference Trees\n",
    "\n",
    "we see about a few which are CART and ID3"
   ]
  },
  {
   "cell_type": "markdown",
   "metadata": {},
   "source": [
    "## 1. Loading AnimalData  "
   ]
  },
  {
   "cell_type": "code",
   "execution_count": 2,
   "metadata": {
    "collapsed": true
   },
   "outputs": [],
   "source": [
    "#imports \n",
    "import pandas as pd\n",
    "import pyodbc\n",
    "import numpy as np\n",
    "import scipy.stats as stats\n",
    "import seaborn as sb\n",
    "import matplotlib.pyplot as plt\n",
    "import random\n",
    "%matplotlib inline\n",
    "pd.options.display.max_columns = None"
   ]
  },
  {
   "cell_type": "code",
   "execution_count": 3,
   "metadata": {
    "collapsed": true
   },
   "outputs": [],
   "source": [
    "#Style settings\n",
    "pd.set_option('display.max_columns', None)\n",
    "sb.set_style(\"whitegrid\")\n",
    "colors = ['yellowgreen', 'lightskyblue','lightcoral', 'gold', 'orange']\n",
    "random_seed = 134"
   ]
  },
  {
   "cell_type": "code",
   "execution_count": 4,
   "metadata": {
    "scrolled": true
   },
   "outputs": [
    {
     "data": {
      "text/html": [
       "<div>\n",
       "<style>\n",
       "    .dataframe thead tr:only-child th {\n",
       "        text-align: right;\n",
       "    }\n",
       "\n",
       "    .dataframe thead th {\n",
       "        text-align: left;\n",
       "    }\n",
       "\n",
       "    .dataframe tbody tr th {\n",
       "        vertical-align: top;\n",
       "    }\n",
       "</style>\n",
       "<table border=\"1\" class=\"dataframe\">\n",
       "  <thead>\n",
       "    <tr style=\"text-align: right;\">\n",
       "      <th></th>\n",
       "      <th>animal name</th>\n",
       "      <th>hair</th>\n",
       "      <th>feathers</th>\n",
       "      <th>eggs</th>\n",
       "      <th>milk</th>\n",
       "      <th>airborne</th>\n",
       "      <th>aquatic</th>\n",
       "      <th>predator</th>\n",
       "      <th>toothed</th>\n",
       "      <th>backbone</th>\n",
       "      <th>breathes</th>\n",
       "      <th>venomous</th>\n",
       "      <th>fins</th>\n",
       "      <th>legs</th>\n",
       "      <th>tail</th>\n",
       "      <th>domestic</th>\n",
       "      <th>catsize</th>\n",
       "      <th>type</th>\n",
       "    </tr>\n",
       "  </thead>\n",
       "  <tbody>\n",
       "    <tr>\n",
       "      <th>0</th>\n",
       "      <td>aardvark</td>\n",
       "      <td>True</td>\n",
       "      <td>False</td>\n",
       "      <td>False</td>\n",
       "      <td>True</td>\n",
       "      <td>False</td>\n",
       "      <td>False</td>\n",
       "      <td>True</td>\n",
       "      <td>True</td>\n",
       "      <td>True</td>\n",
       "      <td>True</td>\n",
       "      <td>False</td>\n",
       "      <td>False</td>\n",
       "      <td>4</td>\n",
       "      <td>False</td>\n",
       "      <td>False</td>\n",
       "      <td>True</td>\n",
       "      <td>mammal</td>\n",
       "    </tr>\n",
       "    <tr>\n",
       "      <th>1</th>\n",
       "      <td>antelope</td>\n",
       "      <td>True</td>\n",
       "      <td>False</td>\n",
       "      <td>False</td>\n",
       "      <td>True</td>\n",
       "      <td>False</td>\n",
       "      <td>False</td>\n",
       "      <td>False</td>\n",
       "      <td>True</td>\n",
       "      <td>True</td>\n",
       "      <td>True</td>\n",
       "      <td>False</td>\n",
       "      <td>False</td>\n",
       "      <td>4</td>\n",
       "      <td>True</td>\n",
       "      <td>False</td>\n",
       "      <td>True</td>\n",
       "      <td>mammal</td>\n",
       "    </tr>\n",
       "    <tr>\n",
       "      <th>2</th>\n",
       "      <td>bass</td>\n",
       "      <td>False</td>\n",
       "      <td>False</td>\n",
       "      <td>True</td>\n",
       "      <td>False</td>\n",
       "      <td>False</td>\n",
       "      <td>True</td>\n",
       "      <td>True</td>\n",
       "      <td>True</td>\n",
       "      <td>True</td>\n",
       "      <td>False</td>\n",
       "      <td>False</td>\n",
       "      <td>True</td>\n",
       "      <td>0</td>\n",
       "      <td>True</td>\n",
       "      <td>False</td>\n",
       "      <td>False</td>\n",
       "      <td>fish</td>\n",
       "    </tr>\n",
       "    <tr>\n",
       "      <th>3</th>\n",
       "      <td>bear</td>\n",
       "      <td>True</td>\n",
       "      <td>False</td>\n",
       "      <td>False</td>\n",
       "      <td>True</td>\n",
       "      <td>False</td>\n",
       "      <td>False</td>\n",
       "      <td>True</td>\n",
       "      <td>True</td>\n",
       "      <td>True</td>\n",
       "      <td>True</td>\n",
       "      <td>False</td>\n",
       "      <td>False</td>\n",
       "      <td>4</td>\n",
       "      <td>False</td>\n",
       "      <td>False</td>\n",
       "      <td>True</td>\n",
       "      <td>mammal</td>\n",
       "    </tr>\n",
       "    <tr>\n",
       "      <th>4</th>\n",
       "      <td>boar</td>\n",
       "      <td>True</td>\n",
       "      <td>False</td>\n",
       "      <td>False</td>\n",
       "      <td>True</td>\n",
       "      <td>False</td>\n",
       "      <td>False</td>\n",
       "      <td>True</td>\n",
       "      <td>True</td>\n",
       "      <td>True</td>\n",
       "      <td>True</td>\n",
       "      <td>False</td>\n",
       "      <td>False</td>\n",
       "      <td>4</td>\n",
       "      <td>True</td>\n",
       "      <td>False</td>\n",
       "      <td>True</td>\n",
       "      <td>mammal</td>\n",
       "    </tr>\n",
       "  </tbody>\n",
       "</table>\n",
       "</div>"
      ],
      "text/plain": [
       "  animal name   hair  feathers   eggs   milk  airborne  aquatic  predator  \\\n",
       "0    aardvark   True     False  False   True     False    False      True   \n",
       "1    antelope   True     False  False   True     False    False     False   \n",
       "2        bass  False     False   True  False     False     True      True   \n",
       "3        bear   True     False  False   True     False    False      True   \n",
       "4        boar   True     False  False   True     False    False      True   \n",
       "\n",
       "   toothed  backbone  breathes  venomous   fins  legs   tail  domestic  \\\n",
       "0     True      True      True     False  False     4  False     False   \n",
       "1     True      True      True     False  False     4   True     False   \n",
       "2     True      True     False     False   True     0   True     False   \n",
       "3     True      True      True     False  False     4  False     False   \n",
       "4     True      True      True     False  False     4   True     False   \n",
       "\n",
       "   catsize    type  \n",
       "0     True  mammal  \n",
       "1     True  mammal  \n",
       "2    False    fish  \n",
       "3     True  mammal  \n",
       "4     True  mammal  "
      ]
     },
     "execution_count": 4,
     "metadata": {},
     "output_type": "execute_result"
    }
   ],
   "source": [
    "data_file = 'AnimalData.csv'\n",
    "\n",
    "data_df = pd.read_csv(data_file, header=0)\n",
    "data_df.head()"
   ]
  },
  {
   "cell_type": "markdown",
   "metadata": {},
   "source": [
    "### Feature engineering\n",
    "Covert true false data into 1 and 0"
   ]
  },
  {
   "cell_type": "code",
   "execution_count": 5,
   "metadata": {
    "collapsed": true
   },
   "outputs": [],
   "source": [
    "converter = {'True' : 1, 'False' : 0}\n",
    "\n",
    "data_df['hair'] = data_df['hair'].astype(int)\n",
    "data_df['feathers'] = data_df['feathers'].astype(int)\n",
    "data_df['eggs'] = data_df['eggs'].astype(int)\n",
    "data_df['milk'] = data_df['milk'].astype(int)\n",
    "data_df['airborne'] = data_df['airborne'].astype(int)\n",
    "data_df['aquatic'] = data_df['aquatic'].astype(int)\n",
    "data_df['predator'] = data_df['predator'].astype(int)\n",
    "data_df['toothed'] = data_df['toothed'].astype(int)\n",
    "data_df['backbone'] = data_df['backbone'].astype(int)\n",
    "data_df['breathes'] = data_df['breathes'].astype(int)\n",
    "data_df['venomous'] = data_df['venomous'].astype(int)\n",
    "data_df['fins'] = data_df['fins'].astype(int)\n",
    "data_df['tail'] = data_df['tail'].astype(int)\n",
    "data_df['domestic'] = data_df['domestic'].astype(int)\n",
    "data_df['catsize'] = data_df['catsize'].astype(int)"
   ]
  },
  {
   "cell_type": "code",
   "execution_count": 6,
   "metadata": {},
   "outputs": [
    {
     "data": {
      "text/html": [
       "<div>\n",
       "<style>\n",
       "    .dataframe thead tr:only-child th {\n",
       "        text-align: right;\n",
       "    }\n",
       "\n",
       "    .dataframe thead th {\n",
       "        text-align: left;\n",
       "    }\n",
       "\n",
       "    .dataframe tbody tr th {\n",
       "        vertical-align: top;\n",
       "    }\n",
       "</style>\n",
       "<table border=\"1\" class=\"dataframe\">\n",
       "  <thead>\n",
       "    <tr style=\"text-align: right;\">\n",
       "      <th></th>\n",
       "      <th>animal name</th>\n",
       "      <th>hair</th>\n",
       "      <th>feathers</th>\n",
       "      <th>eggs</th>\n",
       "      <th>milk</th>\n",
       "      <th>airborne</th>\n",
       "      <th>aquatic</th>\n",
       "      <th>predator</th>\n",
       "      <th>toothed</th>\n",
       "      <th>backbone</th>\n",
       "      <th>breathes</th>\n",
       "      <th>venomous</th>\n",
       "      <th>fins</th>\n",
       "      <th>legs</th>\n",
       "      <th>tail</th>\n",
       "      <th>domestic</th>\n",
       "      <th>catsize</th>\n",
       "      <th>type</th>\n",
       "    </tr>\n",
       "  </thead>\n",
       "  <tbody>\n",
       "    <tr>\n",
       "      <th>0</th>\n",
       "      <td>aardvark</td>\n",
       "      <td>1</td>\n",
       "      <td>0</td>\n",
       "      <td>0</td>\n",
       "      <td>1</td>\n",
       "      <td>0</td>\n",
       "      <td>0</td>\n",
       "      <td>1</td>\n",
       "      <td>1</td>\n",
       "      <td>1</td>\n",
       "      <td>1</td>\n",
       "      <td>0</td>\n",
       "      <td>0</td>\n",
       "      <td>4</td>\n",
       "      <td>0</td>\n",
       "      <td>0</td>\n",
       "      <td>1</td>\n",
       "      <td>mammal</td>\n",
       "    </tr>\n",
       "    <tr>\n",
       "      <th>1</th>\n",
       "      <td>antelope</td>\n",
       "      <td>1</td>\n",
       "      <td>0</td>\n",
       "      <td>0</td>\n",
       "      <td>1</td>\n",
       "      <td>0</td>\n",
       "      <td>0</td>\n",
       "      <td>0</td>\n",
       "      <td>1</td>\n",
       "      <td>1</td>\n",
       "      <td>1</td>\n",
       "      <td>0</td>\n",
       "      <td>0</td>\n",
       "      <td>4</td>\n",
       "      <td>1</td>\n",
       "      <td>0</td>\n",
       "      <td>1</td>\n",
       "      <td>mammal</td>\n",
       "    </tr>\n",
       "    <tr>\n",
       "      <th>2</th>\n",
       "      <td>bass</td>\n",
       "      <td>0</td>\n",
       "      <td>0</td>\n",
       "      <td>1</td>\n",
       "      <td>0</td>\n",
       "      <td>0</td>\n",
       "      <td>1</td>\n",
       "      <td>1</td>\n",
       "      <td>1</td>\n",
       "      <td>1</td>\n",
       "      <td>0</td>\n",
       "      <td>0</td>\n",
       "      <td>1</td>\n",
       "      <td>0</td>\n",
       "      <td>1</td>\n",
       "      <td>0</td>\n",
       "      <td>0</td>\n",
       "      <td>fish</td>\n",
       "    </tr>\n",
       "    <tr>\n",
       "      <th>3</th>\n",
       "      <td>bear</td>\n",
       "      <td>1</td>\n",
       "      <td>0</td>\n",
       "      <td>0</td>\n",
       "      <td>1</td>\n",
       "      <td>0</td>\n",
       "      <td>0</td>\n",
       "      <td>1</td>\n",
       "      <td>1</td>\n",
       "      <td>1</td>\n",
       "      <td>1</td>\n",
       "      <td>0</td>\n",
       "      <td>0</td>\n",
       "      <td>4</td>\n",
       "      <td>0</td>\n",
       "      <td>0</td>\n",
       "      <td>1</td>\n",
       "      <td>mammal</td>\n",
       "    </tr>\n",
       "    <tr>\n",
       "      <th>4</th>\n",
       "      <td>boar</td>\n",
       "      <td>1</td>\n",
       "      <td>0</td>\n",
       "      <td>0</td>\n",
       "      <td>1</td>\n",
       "      <td>0</td>\n",
       "      <td>0</td>\n",
       "      <td>1</td>\n",
       "      <td>1</td>\n",
       "      <td>1</td>\n",
       "      <td>1</td>\n",
       "      <td>0</td>\n",
       "      <td>0</td>\n",
       "      <td>4</td>\n",
       "      <td>1</td>\n",
       "      <td>0</td>\n",
       "      <td>1</td>\n",
       "      <td>mammal</td>\n",
       "    </tr>\n",
       "  </tbody>\n",
       "</table>\n",
       "</div>"
      ],
      "text/plain": [
       "  animal name  hair  feathers  eggs  milk  airborne  aquatic  predator  \\\n",
       "0    aardvark     1         0     0     1         0        0         1   \n",
       "1    antelope     1         0     0     1         0        0         0   \n",
       "2        bass     0         0     1     0         0        1         1   \n",
       "3        bear     1         0     0     1         0        0         1   \n",
       "4        boar     1         0     0     1         0        0         1   \n",
       "\n",
       "   toothed  backbone  breathes  venomous  fins  legs  tail  domestic  catsize  \\\n",
       "0        1         1         1         0     0     4     0         0        1   \n",
       "1        1         1         1         0     0     4     1         0        1   \n",
       "2        1         1         0         0     1     0     1         0        0   \n",
       "3        1         1         1         0     0     4     0         0        1   \n",
       "4        1         1         1         0     0     4     1         0        1   \n",
       "\n",
       "     type  \n",
       "0  mammal  \n",
       "1  mammal  \n",
       "2    fish  \n",
       "3  mammal  \n",
       "4  mammal  "
      ]
     },
     "execution_count": 6,
     "metadata": {},
     "output_type": "execute_result"
    }
   ],
   "source": [
    "data_df.head()"
   ]
  },
  {
   "cell_type": "markdown",
   "metadata": {},
   "source": [
    "### correlation matrix"
   ]
  },
  {
   "cell_type": "code",
   "execution_count": 7,
   "metadata": {},
   "outputs": [
    {
     "data": {
      "image/png": "[encoded data removed]",
      "text/plain": [
       "<matplotlib.figure.Figure at 0x1cdbba3a3c8>"
      ]
     },
     "metadata": {},
     "output_type": "display_data"
    }
   ],
   "source": [
    "features_df = data_df.iloc[:, :-1]\n",
    "target_df = data_df['type']\n",
    "\n",
    "all_corr = features_df.corr(method = 'pearson')\n",
    "\n",
    "mask = np.zeros_like(all_corr, dtype=np.bool)\n",
    "mask[np.triu_indices_from(mask)] = True\n",
    "\n",
    "ax = plt.figure(figsize=(12, 8))\n",
    "ax = sb.heatmap(all_corr, cmap='Blues', annot=True, fmt='.2f', mask = mask)\n",
    "ax = plt.xticks(rotation=85)\n",
    "ax = plt.title(\"Correlations between features\")"
   ]
  },
  {
   "cell_type": "markdown",
   "metadata": {},
   "source": [
    "## 2. Training Model"
   ]
  },
  {
   "cell_type": "markdown",
   "metadata": {
    "collapsed": true
   },
   "source": [
    "The decision tree algorithm tries to solve the problem, by using tree representation. Each internal node of the tree corresponds to an attribute, and each leaf node corresponds to a class label."
   ]
  },
  {
   "cell_type": "markdown",
   "metadata": {},
   "source": [
    "#### Decision Tree Algorithm Pseudocode\n",
    "1. Place the best attribute of the dataset at the root of the tree. In our case root node is milk attribute. \n",
    "2. Split the training set into subsets. Subsets should be made in such a way that each subset contains data with the same value for an attribute. (fins, toothed etc) \n",
    "3. Repeat step 1 and step 2 on each subset until you find leaf nodes in all the branches of the tree. Leaf nodes are target classes like in our case mammal, reptile, insect, bird.. "
   ]
  },
  {
   "cell_type": "markdown",
   "metadata": {},
   "source": [
    "#### Let's see in detail how it works\n",
    "Algorithm first try to search for a variable which gives the maximum information gain or divides the data in the most homogeneous way. For example in our case milk attribute is dividing the data in the most homogeneous way. There are various metrics which decision trees use in order to find out the best split variables.  "
   ]
  },
  {
   "cell_type": "markdown",
   "metadata": {},
   "source": [
    "### 1. CART (Classification and Regression Trees) → uses Gini Index(Classification) as metric."
   ]
  },
  {
   "cell_type": "code",
   "execution_count": 8,
   "metadata": {},
   "outputs": [
    {
     "name": "stdout",
     "output_type": "stream",
     "text": [
      "X_train (72, 17)\n",
      "X_test (25, 17)\n",
      "y_train (72,)\n",
      "y_test (25,)\n"
     ]
    }
   ],
   "source": [
    "from sklearn import tree\n",
    "from sklearn.model_selection import train_test_split\n",
    "from sklearn import preprocessing\n",
    "\n",
    "for column in features_df.columns:\n",
    "    if features_df[column].dtype == type(object):\n",
    "        le = preprocessing.LabelEncoder()\n",
    "        features_df[column] = le.fit_transform(features_df[column])\n",
    "\n",
    "X_train, X_test, y_train, y_test = train_test_split(features_df, \n",
    "                                                    target_df, \n",
    "                                                    test_size=0.25)\n",
    "\n",
    "print('X_train',X_train.shape)\n",
    "print('X_test',X_test.shape)\n",
    "print('y_train',y_train.shape)\n",
    "print('y_test',y_test.shape)"
   ]
  },
  {
   "cell_type": "code",
   "execution_count": 9,
   "metadata": {
    "collapsed": true
   },
   "outputs": [],
   "source": [
    "clf = tree.DecisionTreeClassifier()\n",
    "clf = clf.fit(X_train,y_train)"
   ]
  },
  {
   "cell_type": "code",
   "execution_count": 10,
   "metadata": {},
   "outputs": [
    {
     "data": {
      "image/svg+xml": [
       "<?xml version=\"1.0\" encoding=\"UTF-8\" standalone=\"no\"?>\r\n",
       "<!DOCTYPE svg PUBLIC \"-//W3C//DTD SVG 1.1//EN\"\r\n",
       " \"http://www.w3.org/Graphics/SVG/1.1/DTD/svg11.dtd\">\r\n",
       "<!-- Generated by graphviz version 2.38.0 (20140413.2041)\r\n",
       " -->\r\n",
       "<!-- Title: Tree Pages: 1 -->\r\n",
       "<svg width=\"911pt\" height=\"790pt\"\r\n",
       " viewBox=\"0.00 0.00 911.00 790.00\" xmlns=\"http://www.w3.org/2000/svg\" xmlns:xlink=\"http://www.w3.org/1999/xlink\">\r\n",
       "<g id=\"graph0\" class=\"graph\" transform=\"scale(1 1) rotate(0) translate(4 786)\">\r\n",
       "<title>Tree</title>\r\n",
       "<polygon fill=\"white\" stroke=\"none\" points=\"-4,4 -4,-786 907,-786 907,4 -4,4\"/>\r\n",
       "<!-- 0 -->\r\n",
       "<g id=\"node1\" class=\"node\"><title>0</title>\r\n",
       "<path fill=\"#b139e5\" fill-opacity=\"0.211765\" stroke=\"black\" d=\"M770,-782C770,-782 594,-782 594,-782 588,-782 582,-776 582,-770 582,-770 582,-711 582,-711 582,-705 588,-699 594,-699 594,-699 770,-699 770,-699 776,-699 782,-705 782,-711 782,-711 782,-770 782,-770 782,-776 776,-782 770,-782\"/>\r\n",
       "<text text-anchor=\"start\" x=\"651.5\" y=\"-766.8\" font-family=\"Helvetica,sans-Serif\" font-size=\"14.00\">milk ≤ 0.5</text>\r\n",
       "<text text-anchor=\"start\" x=\"644.5\" y=\"-751.8\" font-family=\"Helvetica,sans-Serif\" font-size=\"14.00\">gini = 0.775</text>\r\n",
       "<text text-anchor=\"start\" x=\"638.5\" y=\"-736.8\" font-family=\"Helvetica,sans-Serif\" font-size=\"14.00\">samples = 72</text>\r\n",
       "<text text-anchor=\"start\" x=\"590\" y=\"-721.8\" font-family=\"Helvetica,sans-Serif\" font-size=\"14.00\">value = [4, 15, 10, 4, 8, 27, 4]</text>\r\n",
       "<text text-anchor=\"start\" x=\"625\" y=\"-706.8\" font-family=\"Helvetica,sans-Serif\" font-size=\"14.00\">class = amphibian</text>\r\n",
       "</g>\r\n",
       "<!-- 1 -->\r\n",
       "<g id=\"node2\" class=\"node\"><title>1</title>\r\n",
       "<path fill=\"#b7e539\" fill-opacity=\"0.141176\" stroke=\"black\" d=\"M663,-663C663,-663 495,-663 495,-663 489,-663 483,-657 483,-651 483,-651 483,-592 483,-592 483,-586 489,-580 495,-580 495,-580 663,-580 663,-580 669,-580 675,-586 675,-592 675,-592 675,-651 675,-651 675,-657 669,-663 663,-663\"/>\r\n",
       "<text text-anchor=\"start\" x=\"535\" y=\"-647.8\" font-family=\"Helvetica,sans-Serif\" font-size=\"14.00\">feathers ≤ 0.5</text>\r\n",
       "<text text-anchor=\"start\" x=\"541.5\" y=\"-632.8\" font-family=\"Helvetica,sans-Serif\" font-size=\"14.00\">gini = 0.784</text>\r\n",
       "<text text-anchor=\"start\" x=\"535.5\" y=\"-617.8\" font-family=\"Helvetica,sans-Serif\" font-size=\"14.00\">samples = 45</text>\r\n",
       "<text text-anchor=\"start\" x=\"491\" y=\"-602.8\" font-family=\"Helvetica,sans-Serif\" font-size=\"14.00\">value = [4, 15, 10, 4, 8, 0, 4]</text>\r\n",
       "<text text-anchor=\"start\" x=\"543\" y=\"-587.8\" font-family=\"Helvetica,sans-Serif\" font-size=\"14.00\">class = fish</text>\r\n",
       "</g>\r\n",
       "<!-- 0&#45;&gt;1 -->\r\n",
       "<g id=\"edge1\" class=\"edge\"><title>0&#45;&gt;1</title>\r\n",
       "<path fill=\"none\" stroke=\"black\" d=\"M646.265,-698.907C638.275,-689.832 629.726,-680.121 621.494,-670.769\"/>\r\n",
       "<polygon fill=\"black\" stroke=\"black\" points=\"623.907,-668.214 614.672,-663.021 618.653,-672.839 623.907,-668.214\"/>\r\n",
       "<text text-anchor=\"middle\" x=\"613.084\" y=\"-684.27\" font-family=\"Helvetica,sans-Serif\" font-size=\"14.00\">True</text>\r\n",
       "</g>\r\n",
       "<!-- 16 -->\r\n",
       "<g id=\"node17\" class=\"node\"><title>16</title>\r\n",
       "<path fill=\"#b139e5\" stroke=\"black\" d=\"M865,-655.5C865,-655.5 705,-655.5 705,-655.5 699,-655.5 693,-649.5 693,-643.5 693,-643.5 693,-599.5 693,-599.5 693,-593.5 699,-587.5 705,-587.5 705,-587.5 865,-587.5 865,-587.5 871,-587.5 877,-593.5 877,-599.5 877,-599.5 877,-643.5 877,-643.5 877,-649.5 871,-655.5 865,-655.5\"/>\r\n",
       "<text text-anchor=\"start\" x=\"756\" y=\"-640.3\" font-family=\"Helvetica,sans-Serif\" font-size=\"14.00\">gini = 0.0</text>\r\n",
       "<text text-anchor=\"start\" x=\"741.5\" y=\"-625.3\" font-family=\"Helvetica,sans-Serif\" font-size=\"14.00\">samples = 27</text>\r\n",
       "<text text-anchor=\"start\" x=\"701\" y=\"-610.3\" font-family=\"Helvetica,sans-Serif\" font-size=\"14.00\">value = [0, 0, 0, 0, 0, 27, 0]</text>\r\n",
       "<text text-anchor=\"start\" x=\"728\" y=\"-595.3\" font-family=\"Helvetica,sans-Serif\" font-size=\"14.00\">class = amphibian</text>\r\n",
       "</g>\r\n",
       "<!-- 0&#45;&gt;16 -->\r\n",
       "<g id=\"edge16\" class=\"edge\"><title>0&#45;&gt;16</title>\r\n",
       "<path fill=\"none\" stroke=\"black\" d=\"M717.735,-698.907C727.838,-687.432 738.836,-674.938 748.957,-663.442\"/>\r\n",
       "<polygon fill=\"black\" stroke=\"black\" points=\"751.821,-665.486 755.802,-655.667 746.567,-660.86 751.821,-665.486\"/>\r\n",
       "<text text-anchor=\"middle\" x=\"757.389\" y=\"-676.916\" font-family=\"Helvetica,sans-Serif\" font-size=\"14.00\">False</text>\r\n",
       "</g>\r\n",
       "<!-- 2 -->\r\n",
       "<g id=\"node3\" class=\"node\"><title>2</title>\r\n",
       "<path fill=\"#39e54d\" fill-opacity=\"0.090196\" stroke=\"black\" d=\"M558,-544C558,-544 398,-544 398,-544 392,-544 386,-538 386,-532 386,-532 386,-473 386,-473 386,-467 392,-461 398,-461 398,-461 558,-461 558,-461 564,-461 570,-467 570,-473 570,-473 570,-532 570,-532 570,-538 564,-544 558,-544\"/>\r\n",
       "<text text-anchor=\"start\" x=\"449\" y=\"-528.8\" font-family=\"Helvetica,sans-Serif\" font-size=\"14.00\">fins ≤ 0.5</text>\r\n",
       "<text text-anchor=\"start\" x=\"440.5\" y=\"-513.8\" font-family=\"Helvetica,sans-Serif\" font-size=\"14.00\">gini = 0.764</text>\r\n",
       "<text text-anchor=\"start\" x=\"434.5\" y=\"-498.8\" font-family=\"Helvetica,sans-Serif\" font-size=\"14.00\">samples = 30</text>\r\n",
       "<text text-anchor=\"start\" x=\"394\" y=\"-483.8\" font-family=\"Helvetica,sans-Serif\" font-size=\"14.00\">value = [4, 0, 10, 4, 8, 0, 4]</text>\r\n",
       "<text text-anchor=\"start\" x=\"441.5\" y=\"-468.8\" font-family=\"Helvetica,sans-Serif\" font-size=\"14.00\">class = bird</text>\r\n",
       "</g>\r\n",
       "<!-- 1&#45;&gt;2 -->\r\n",
       "<g id=\"edge2\" class=\"edge\"><title>1&#45;&gt;2</title>\r\n",
       "<path fill=\"none\" stroke=\"black\" d=\"M543.959,-579.907C536.124,-570.832 527.741,-561.121 519.669,-551.769\"/>\r\n",
       "<polygon fill=\"black\" stroke=\"black\" points=\"522.163,-549.303 512.98,-544.021 516.865,-553.878 522.163,-549.303\"/>\r\n",
       "</g>\r\n",
       "<!-- 15 -->\r\n",
       "<g id=\"node16\" class=\"node\"><title>15</title>\r\n",
       "<path fill=\"#b7e539\" stroke=\"black\" d=\"M760,-536.5C760,-536.5 600,-536.5 600,-536.5 594,-536.5 588,-530.5 588,-524.5 588,-524.5 588,-480.5 588,-480.5 588,-474.5 594,-468.5 600,-468.5 600,-468.5 760,-468.5 760,-468.5 766,-468.5 772,-474.5 772,-480.5 772,-480.5 772,-524.5 772,-524.5 772,-530.5 766,-536.5 760,-536.5\"/>\r\n",
       "<text text-anchor=\"start\" x=\"651\" y=\"-521.3\" font-family=\"Helvetica,sans-Serif\" font-size=\"14.00\">gini = 0.0</text>\r\n",
       "<text text-anchor=\"start\" x=\"636.5\" y=\"-506.3\" font-family=\"Helvetica,sans-Serif\" font-size=\"14.00\">samples = 15</text>\r\n",
       "<text text-anchor=\"start\" x=\"596\" y=\"-491.3\" font-family=\"Helvetica,sans-Serif\" font-size=\"14.00\">value = [0, 15, 0, 0, 0, 0, 0]</text>\r\n",
       "<text text-anchor=\"start\" x=\"644\" y=\"-476.3\" font-family=\"Helvetica,sans-Serif\" font-size=\"14.00\">class = fish</text>\r\n",
       "</g>\r\n",
       "<!-- 1&#45;&gt;15 -->\r\n",
       "<g id=\"edge15\" class=\"edge\"><title>1&#45;&gt;15</title>\r\n",
       "<path fill=\"none\" stroke=\"black\" d=\"M614.041,-579.907C623.948,-568.432 634.733,-555.938 644.657,-544.442\"/>\r\n",
       "<polygon fill=\"black\" stroke=\"black\" points=\"647.484,-546.524 651.369,-536.667 642.185,-541.95 647.484,-546.524\"/>\r\n",
       "</g>\r\n",
       "<!-- 3 -->\r\n",
       "<g id=\"node4\" class=\"node\"><title>3</title>\r\n",
       "<path fill=\"#3956e5\" fill-opacity=\"0.250980\" stroke=\"black\" d=\"M455,-425C455,-425 303,-425 303,-425 297,-425 291,-419 291,-413 291,-413 291,-354 291,-354 291,-348 297,-342 303,-342 303,-342 455,-342 455,-342 461,-342 467,-348 467,-354 467,-354 467,-413 467,-413 467,-419 461,-425 455,-425\"/>\r\n",
       "<text text-anchor=\"start\" x=\"330\" y=\"-409.8\" font-family=\"Helvetica,sans-Serif\" font-size=\"14.00\">backbone ≤ 0.5</text>\r\n",
       "<text text-anchor=\"start\" x=\"345.5\" y=\"-394.8\" font-family=\"Helvetica,sans-Serif\" font-size=\"14.00\">gini = 0.72</text>\r\n",
       "<text text-anchor=\"start\" x=\"335.5\" y=\"-379.8\" font-family=\"Helvetica,sans-Serif\" font-size=\"14.00\">samples = 20</text>\r\n",
       "<text text-anchor=\"start\" x=\"299\" y=\"-364.8\" font-family=\"Helvetica,sans-Serif\" font-size=\"14.00\">value = [4, 0, 0, 4, 8, 0, 4]</text>\r\n",
       "<text text-anchor=\"start\" x=\"335.5\" y=\"-349.8\" font-family=\"Helvetica,sans-Serif\" font-size=\"14.00\">class = insect</text>\r\n",
       "</g>\r\n",
       "<!-- 2&#45;&gt;3 -->\r\n",
       "<g id=\"edge3\" class=\"edge\"><title>2&#45;&gt;3</title>\r\n",
       "<path fill=\"none\" stroke=\"black\" d=\"M443.652,-460.907C435.974,-451.832 427.756,-442.121 419.843,-432.769\"/>\r\n",
       "<polygon fill=\"black\" stroke=\"black\" points=\"422.418,-430.394 413.287,-425.021 417.074,-434.916 422.418,-430.394\"/>\r\n",
       "</g>\r\n",
       "<!-- 14 -->\r\n",
       "<g id=\"node15\" class=\"node\"><title>14</title>\r\n",
       "<path fill=\"#39e54d\" stroke=\"black\" d=\"M657,-417.5C657,-417.5 497,-417.5 497,-417.5 491,-417.5 485,-411.5 485,-405.5 485,-405.5 485,-361.5 485,-361.5 485,-355.5 491,-349.5 497,-349.5 497,-349.5 657,-349.5 657,-349.5 663,-349.5 669,-355.5 669,-361.5 669,-361.5 669,-405.5 669,-405.5 669,-411.5 663,-417.5 657,-417.5\"/>\r\n",
       "<text text-anchor=\"start\" x=\"548\" y=\"-402.3\" font-family=\"Helvetica,sans-Serif\" font-size=\"14.00\">gini = 0.0</text>\r\n",
       "<text text-anchor=\"start\" x=\"533.5\" y=\"-387.3\" font-family=\"Helvetica,sans-Serif\" font-size=\"14.00\">samples = 10</text>\r\n",
       "<text text-anchor=\"start\" x=\"493\" y=\"-372.3\" font-family=\"Helvetica,sans-Serif\" font-size=\"14.00\">value = [0, 0, 10, 0, 0, 0, 0]</text>\r\n",
       "<text text-anchor=\"start\" x=\"540.5\" y=\"-357.3\" font-family=\"Helvetica,sans-Serif\" font-size=\"14.00\">class = bird</text>\r\n",
       "</g>\r\n",
       "<!-- 2&#45;&gt;14 -->\r\n",
       "<g id=\"edge14\" class=\"edge\"><title>2&#45;&gt;14</title>\r\n",
       "<path fill=\"none\" stroke=\"black\" d=\"M512.348,-460.907C522.058,-449.432 532.629,-436.938 542.357,-425.442\"/>\r\n",
       "<polygon fill=\"black\" stroke=\"black\" points=\"545.148,-427.562 548.936,-417.667 539.804,-423.04 545.148,-427.562\"/>\r\n",
       "</g>\r\n",
       "<!-- 4 -->\r\n",
       "<g id=\"node5\" class=\"node\"><title>4</title>\r\n",
       "<path fill=\"#3956e5\" fill-opacity=\"0.498039\" stroke=\"black\" d=\"M358,-306C358,-306 206,-306 206,-306 200,-306 194,-300 194,-294 194,-294 194,-235 194,-235 194,-229 200,-223 206,-223 206,-223 358,-223 358,-223 364,-223 370,-229 370,-235 370,-235 370,-294 370,-294 370,-300 364,-306 358,-306\"/>\r\n",
       "<text text-anchor=\"start\" x=\"236.5\" y=\"-290.8\" font-family=\"Helvetica,sans-Serif\" font-size=\"14.00\">breathes ≤ 0.5</text>\r\n",
       "<text text-anchor=\"start\" x=\"244.5\" y=\"-275.8\" font-family=\"Helvetica,sans-Serif\" font-size=\"14.00\">gini = 0.444</text>\r\n",
       "<text text-anchor=\"start\" x=\"238.5\" y=\"-260.8\" font-family=\"Helvetica,sans-Serif\" font-size=\"14.00\">samples = 12</text>\r\n",
       "<text text-anchor=\"start\" x=\"202\" y=\"-245.8\" font-family=\"Helvetica,sans-Serif\" font-size=\"14.00\">value = [0, 0, 0, 4, 8, 0, 0]</text>\r\n",
       "<text text-anchor=\"start\" x=\"238.5\" y=\"-230.8\" font-family=\"Helvetica,sans-Serif\" font-size=\"14.00\">class = insect</text>\r\n",
       "</g>\r\n",
       "<!-- 3&#45;&gt;4 -->\r\n",
       "<g id=\"edge4\" class=\"edge\"><title>3&#45;&gt;4</title>\r\n",
       "<path fill=\"none\" stroke=\"black\" d=\"M345.346,-341.907C337.823,-332.832 329.771,-323.121 322.018,-313.769\"/>\r\n",
       "<polygon fill=\"black\" stroke=\"black\" points=\"324.671,-311.485 315.594,-306.021 319.282,-315.953 324.671,-311.485\"/>\r\n",
       "</g>\r\n",
       "<!-- 9 -->\r\n",
       "<g id=\"node10\" class=\"node\"><title>9</title>\r\n",
       "<path fill=\"none\" stroke=\"black\" d=\"M552,-306C552,-306 400,-306 400,-306 394,-306 388,-300 388,-294 388,-294 388,-235 388,-235 388,-229 394,-223 400,-223 400,-223 552,-223 552,-223 558,-223 564,-229 564,-235 564,-235 564,-294 564,-294 564,-300 558,-306 552,-306\"/>\r\n",
       "<text text-anchor=\"start\" x=\"435.5\" y=\"-290.8\" font-family=\"Helvetica,sans-Serif\" font-size=\"14.00\">aquatic ≤ 0.5</text>\r\n",
       "<text text-anchor=\"start\" x=\"447\" y=\"-275.8\" font-family=\"Helvetica,sans-Serif\" font-size=\"14.00\">gini = 0.5</text>\r\n",
       "<text text-anchor=\"start\" x=\"436.5\" y=\"-260.8\" font-family=\"Helvetica,sans-Serif\" font-size=\"14.00\">samples = 8</text>\r\n",
       "<text text-anchor=\"start\" x=\"396\" y=\"-245.8\" font-family=\"Helvetica,sans-Serif\" font-size=\"14.00\">value = [4, 0, 0, 0, 0, 0, 4]</text>\r\n",
       "<text text-anchor=\"start\" x=\"424.5\" y=\"-230.8\" font-family=\"Helvetica,sans-Serif\" font-size=\"14.00\">class = mammal</text>\r\n",
       "</g>\r\n",
       "<!-- 3&#45;&gt;9 -->\r\n",
       "<g id=\"edge9\" class=\"edge\"><title>3&#45;&gt;9</title>\r\n",
       "<path fill=\"none\" stroke=\"black\" d=\"M412.654,-341.907C420.177,-332.832 428.229,-323.121 435.982,-313.769\"/>\r\n",
       "<polygon fill=\"black\" stroke=\"black\" points=\"438.718,-315.953 442.406,-306.021 433.329,-311.485 438.718,-315.953\"/>\r\n",
       "</g>\r\n",
       "<!-- 5 -->\r\n",
       "<g id=\"node6\" class=\"node\"><title>5</title>\r\n",
       "<path fill=\"#3956e5\" stroke=\"black\" d=\"M164,-179.5C164,-179.5 12,-179.5 12,-179.5 6,-179.5 0,-173.5 0,-167.5 0,-167.5 0,-123.5 0,-123.5 0,-117.5 6,-111.5 12,-111.5 12,-111.5 164,-111.5 164,-111.5 170,-111.5 176,-117.5 176,-123.5 176,-123.5 176,-167.5 176,-167.5 176,-173.5 170,-179.5 164,-179.5\"/>\r\n",
       "<text text-anchor=\"start\" x=\"59\" y=\"-164.3\" font-family=\"Helvetica,sans-Serif\" font-size=\"14.00\">gini = 0.0</text>\r\n",
       "<text text-anchor=\"start\" x=\"48.5\" y=\"-149.3\" font-family=\"Helvetica,sans-Serif\" font-size=\"14.00\">samples = 7</text>\r\n",
       "<text text-anchor=\"start\" x=\"8\" y=\"-134.3\" font-family=\"Helvetica,sans-Serif\" font-size=\"14.00\">value = [0, 0, 0, 0, 7, 0, 0]</text>\r\n",
       "<text text-anchor=\"start\" x=\"44.5\" y=\"-119.3\" font-family=\"Helvetica,sans-Serif\" font-size=\"14.00\">class = insect</text>\r\n",
       "</g>\r\n",
       "<!-- 4&#45;&gt;5 -->\r\n",
       "<g id=\"edge5\" class=\"edge\"><title>4&#45;&gt;5</title>\r\n",
       "<path fill=\"none\" stroke=\"black\" d=\"M214.693,-222.907C194.292,-210.604 171.952,-197.131 151.79,-184.971\"/>\r\n",
       "<polygon fill=\"black\" stroke=\"black\" points=\"153.366,-181.834 142.995,-179.667 149.75,-187.829 153.366,-181.834\"/>\r\n",
       "</g>\r\n",
       "<!-- 6 -->\r\n",
       "<g id=\"node7\" class=\"node\"><title>6</title>\r\n",
       "<path fill=\"#39e5e2\" fill-opacity=\"0.749020\" stroke=\"black\" d=\"M358,-187C358,-187 206,-187 206,-187 200,-187 194,-181 194,-175 194,-175 194,-116 194,-116 194,-110 200,-104 206,-104 206,-104 358,-104 358,-104 364,-104 370,-110 370,-116 370,-116 370,-175 370,-175 370,-181 364,-187 358,-187\"/>\r\n",
       "<text text-anchor=\"start\" x=\"250.5\" y=\"-171.8\" font-family=\"Helvetica,sans-Serif\" font-size=\"14.00\">legs ≤ 3.0</text>\r\n",
       "<text text-anchor=\"start\" x=\"248.5\" y=\"-156.8\" font-family=\"Helvetica,sans-Serif\" font-size=\"14.00\">gini = 0.32</text>\r\n",
       "<text text-anchor=\"start\" x=\"242.5\" y=\"-141.8\" font-family=\"Helvetica,sans-Serif\" font-size=\"14.00\">samples = 5</text>\r\n",
       "<text text-anchor=\"start\" x=\"202\" y=\"-126.8\" font-family=\"Helvetica,sans-Serif\" font-size=\"14.00\">value = [0, 0, 0, 4, 1, 0, 0]</text>\r\n",
       "<text text-anchor=\"start\" x=\"220\" y=\"-111.8\" font-family=\"Helvetica,sans-Serif\" font-size=\"14.00\">class = invertebrate</text>\r\n",
       "</g>\r\n",
       "<!-- 4&#45;&gt;6 -->\r\n",
       "<g id=\"edge6\" class=\"edge\"><title>4&#45;&gt;6</title>\r\n",
       "<path fill=\"none\" stroke=\"black\" d=\"M282,-222.907C282,-214.649 282,-205.864 282,-197.302\"/>\r\n",
       "<polygon fill=\"black\" stroke=\"black\" points=\"285.5,-197.021 282,-187.021 278.5,-197.021 285.5,-197.021\"/>\r\n",
       "</g>\r\n",
       "<!-- 7 -->\r\n",
       "<g id=\"node8\" class=\"node\"><title>7</title>\r\n",
       "<path fill=\"#3956e5\" stroke=\"black\" d=\"M261,-68C261,-68 109,-68 109,-68 103,-68 97,-62 97,-56 97,-56 97,-12 97,-12 97,-6 103,-0 109,-0 109,-0 261,-0 261,-0 267,-0 273,-6 273,-12 273,-12 273,-56 273,-56 273,-62 267,-68 261,-68\"/>\r\n",
       "<text text-anchor=\"start\" x=\"156\" y=\"-52.8\" font-family=\"Helvetica,sans-Serif\" font-size=\"14.00\">gini = 0.0</text>\r\n",
       "<text text-anchor=\"start\" x=\"145.5\" y=\"-37.8\" font-family=\"Helvetica,sans-Serif\" font-size=\"14.00\">samples = 1</text>\r\n",
       "<text text-anchor=\"start\" x=\"105\" y=\"-22.8\" font-family=\"Helvetica,sans-Serif\" font-size=\"14.00\">value = [0, 0, 0, 0, 1, 0, 0]</text>\r\n",
       "<text text-anchor=\"start\" x=\"141.5\" y=\"-7.8\" font-family=\"Helvetica,sans-Serif\" font-size=\"14.00\">class = insect</text>\r\n",
       "</g>\r\n",
       "<!-- 6&#45;&gt;7 -->\r\n",
       "<g id=\"edge7\" class=\"edge\"><title>6&#45;&gt;7</title>\r\n",
       "<path fill=\"none\" stroke=\"black\" d=\"M245.881,-103.726C237.801,-94.6054 229.23,-84.93 221.149,-75.8078\"/>\r\n",
       "<polygon fill=\"black\" stroke=\"black\" points=\"223.749,-73.4642 214.498,-68.2996 218.509,-78.1058 223.749,-73.4642\"/>\r\n",
       "</g>\r\n",
       "<!-- 8 -->\r\n",
       "<g id=\"node9\" class=\"node\"><title>8</title>\r\n",
       "<path fill=\"#39e5e2\" stroke=\"black\" d=\"M455,-68C455,-68 303,-68 303,-68 297,-68 291,-62 291,-56 291,-56 291,-12 291,-12 291,-6 297,-0 303,-0 303,-0 455,-0 455,-0 461,-0 467,-6 467,-12 467,-12 467,-56 467,-56 467,-62 461,-68 455,-68\"/>\r\n",
       "<text text-anchor=\"start\" x=\"350\" y=\"-52.8\" font-family=\"Helvetica,sans-Serif\" font-size=\"14.00\">gini = 0.0</text>\r\n",
       "<text text-anchor=\"start\" x=\"339.5\" y=\"-37.8\" font-family=\"Helvetica,sans-Serif\" font-size=\"14.00\">samples = 4</text>\r\n",
       "<text text-anchor=\"start\" x=\"299\" y=\"-22.8\" font-family=\"Helvetica,sans-Serif\" font-size=\"14.00\">value = [0, 0, 0, 4, 0, 0, 0]</text>\r\n",
       "<text text-anchor=\"start\" x=\"317\" y=\"-7.8\" font-family=\"Helvetica,sans-Serif\" font-size=\"14.00\">class = invertebrate</text>\r\n",
       "</g>\r\n",
       "<!-- 6&#45;&gt;8 -->\r\n",
       "<g id=\"edge8\" class=\"edge\"><title>6&#45;&gt;8</title>\r\n",
       "<path fill=\"none\" stroke=\"black\" d=\"M318.119,-103.726C326.199,-94.6054 334.77,-84.93 342.851,-75.8078\"/>\r\n",
       "<polygon fill=\"black\" stroke=\"black\" points=\"345.491,-78.1058 349.502,-68.2996 340.251,-73.4642 345.491,-78.1058\"/>\r\n",
       "</g>\r\n",
       "<!-- 10 -->\r\n",
       "<g id=\"node11\" class=\"node\"><title>10</title>\r\n",
       "<path fill=\"#e53986\" stroke=\"black\" d=\"M552,-179.5C552,-179.5 400,-179.5 400,-179.5 394,-179.5 388,-173.5 388,-167.5 388,-167.5 388,-123.5 388,-123.5 388,-117.5 394,-111.5 400,-111.5 400,-111.5 552,-111.5 552,-111.5 558,-111.5 564,-117.5 564,-123.5 564,-123.5 564,-167.5 564,-167.5 564,-173.5 558,-179.5 552,-179.5\"/>\r\n",
       "<text text-anchor=\"start\" x=\"447\" y=\"-164.3\" font-family=\"Helvetica,sans-Serif\" font-size=\"14.00\">gini = 0.0</text>\r\n",
       "<text text-anchor=\"start\" x=\"436.5\" y=\"-149.3\" font-family=\"Helvetica,sans-Serif\" font-size=\"14.00\">samples = 3</text>\r\n",
       "<text text-anchor=\"start\" x=\"396\" y=\"-134.3\" font-family=\"Helvetica,sans-Serif\" font-size=\"14.00\">value = [0, 0, 0, 0, 0, 0, 3]</text>\r\n",
       "<text text-anchor=\"start\" x=\"432\" y=\"-119.3\" font-family=\"Helvetica,sans-Serif\" font-size=\"14.00\">class = reptile</text>\r\n",
       "</g>\r\n",
       "<!-- 9&#45;&gt;10 -->\r\n",
       "<g id=\"edge10\" class=\"edge\"><title>9&#45;&gt;10</title>\r\n",
       "<path fill=\"none\" stroke=\"black\" d=\"M476,-222.907C476,-212.204 476,-200.615 476,-189.776\"/>\r\n",
       "<polygon fill=\"black\" stroke=\"black\" points=\"479.5,-189.667 476,-179.667 472.5,-189.667 479.5,-189.667\"/>\r\n",
       "</g>\r\n",
       "<!-- 11 -->\r\n",
       "<g id=\"node12\" class=\"node\"><title>11</title>\r\n",
       "<path fill=\"#e58139\" fill-opacity=\"0.749020\" stroke=\"black\" d=\"M746,-187C746,-187 594,-187 594,-187 588,-187 582,-181 582,-175 582,-175 582,-116 582,-116 582,-110 588,-104 594,-104 594,-104 746,-104 746,-104 752,-104 758,-110 758,-116 758,-116 758,-175 758,-175 758,-181 752,-187 746,-187\"/>\r\n",
       "<text text-anchor=\"start\" x=\"638.5\" y=\"-171.8\" font-family=\"Helvetica,sans-Serif\" font-size=\"14.00\">legs ≤ 2.0</text>\r\n",
       "<text text-anchor=\"start\" x=\"636.5\" y=\"-156.8\" font-family=\"Helvetica,sans-Serif\" font-size=\"14.00\">gini = 0.32</text>\r\n",
       "<text text-anchor=\"start\" x=\"630.5\" y=\"-141.8\" font-family=\"Helvetica,sans-Serif\" font-size=\"14.00\">samples = 5</text>\r\n",
       "<text text-anchor=\"start\" x=\"590\" y=\"-126.8\" font-family=\"Helvetica,sans-Serif\" font-size=\"14.00\">value = [4, 0, 0, 0, 0, 0, 1]</text>\r\n",
       "<text text-anchor=\"start\" x=\"618.5\" y=\"-111.8\" font-family=\"Helvetica,sans-Serif\" font-size=\"14.00\">class = mammal</text>\r\n",
       "</g>\r\n",
       "<!-- 9&#45;&gt;11 -->\r\n",
       "<g id=\"edge11\" class=\"edge\"><title>9&#45;&gt;11</title>\r\n",
       "<path fill=\"none\" stroke=\"black\" d=\"M543.307,-222.907C559.709,-213.016 577.365,-202.368 594.134,-192.254\"/>\r\n",
       "<polygon fill=\"black\" stroke=\"black\" points=\"596.056,-195.182 602.812,-187.021 592.441,-189.188 596.056,-195.182\"/>\r\n",
       "</g>\r\n",
       "<!-- 12 -->\r\n",
       "<g id=\"node13\" class=\"node\"><title>12</title>\r\n",
       "<path fill=\"#e53986\" stroke=\"black\" d=\"M697,-68C697,-68 545,-68 545,-68 539,-68 533,-62 533,-56 533,-56 533,-12 533,-12 533,-6 539,-0 545,-0 545,-0 697,-0 697,-0 703,-0 709,-6 709,-12 709,-12 709,-56 709,-56 709,-62 703,-68 697,-68\"/>\r\n",
       "<text text-anchor=\"start\" x=\"592\" y=\"-52.8\" font-family=\"Helvetica,sans-Serif\" font-size=\"14.00\">gini = 0.0</text>\r\n",
       "<text text-anchor=\"start\" x=\"581.5\" y=\"-37.8\" font-family=\"Helvetica,sans-Serif\" font-size=\"14.00\">samples = 1</text>\r\n",
       "<text text-anchor=\"start\" x=\"541\" y=\"-22.8\" font-family=\"Helvetica,sans-Serif\" font-size=\"14.00\">value = [0, 0, 0, 0, 0, 0, 1]</text>\r\n",
       "<text text-anchor=\"start\" x=\"577\" y=\"-7.8\" font-family=\"Helvetica,sans-Serif\" font-size=\"14.00\">class = reptile</text>\r\n",
       "</g>\r\n",
       "<!-- 11&#45;&gt;12 -->\r\n",
       "<g id=\"edge12\" class=\"edge\"><title>11&#45;&gt;12</title>\r\n",
       "<path fill=\"none\" stroke=\"black\" d=\"M651.754,-103.726C647.918,-95.1527 643.862,-86.0891 639.998,-77.4555\"/>\r\n",
       "<polygon fill=\"black\" stroke=\"black\" points=\"643.181,-75.9978 635.901,-68.2996 636.791,-78.857 643.181,-75.9978\"/>\r\n",
       "</g>\r\n",
       "<!-- 13 -->\r\n",
       "<g id=\"node14\" class=\"node\"><title>13</title>\r\n",
       "<path fill=\"#e58139\" stroke=\"black\" d=\"M891,-68C891,-68 739,-68 739,-68 733,-68 727,-62 727,-56 727,-56 727,-12 727,-12 727,-6 733,-0 739,-0 739,-0 891,-0 891,-0 897,-0 903,-6 903,-12 903,-12 903,-56 903,-56 903,-62 897,-68 891,-68\"/>\r\n",
       "<text text-anchor=\"start\" x=\"786\" y=\"-52.8\" font-family=\"Helvetica,sans-Serif\" font-size=\"14.00\">gini = 0.0</text>\r\n",
       "<text text-anchor=\"start\" x=\"775.5\" y=\"-37.8\" font-family=\"Helvetica,sans-Serif\" font-size=\"14.00\">samples = 4</text>\r\n",
       "<text text-anchor=\"start\" x=\"735\" y=\"-22.8\" font-family=\"Helvetica,sans-Serif\" font-size=\"14.00\">value = [4, 0, 0, 0, 0, 0, 0]</text>\r\n",
       "<text text-anchor=\"start\" x=\"763.5\" y=\"-7.8\" font-family=\"Helvetica,sans-Serif\" font-size=\"14.00\">class = mammal</text>\r\n",
       "</g>\r\n",
       "<!-- 11&#45;&gt;13 -->\r\n",
       "<g id=\"edge13\" class=\"edge\"><title>11&#45;&gt;13</title>\r\n",
       "<path fill=\"none\" stroke=\"black\" d=\"M723.993,-103.726C736.674,-94.1494 750.166,-83.9611 762.769,-74.4438\"/>\r\n",
       "<polygon fill=\"black\" stroke=\"black\" points=\"765.034,-77.1191 770.905,-68.2996 760.815,-71.533 765.034,-77.1191\"/>\r\n",
       "</g>\r\n",
       "</g>\r\n",
       "</svg>\r\n"
      ],
      "text/plain": [
       "<graphviz.files.Source at 0x1cdbbd3db00>"
      ]
     },
     "execution_count": 10,
     "metadata": {},
     "output_type": "execute_result"
    }
   ],
   "source": [
    "import graphviz\n",
    "\n",
    "feature_names = list(features_df.columns.values)\n",
    "target_names = target_df.unique()\n",
    "\n",
    "dot_data = tree.export_graphviz(clf, out_file=None, \n",
    "                         feature_names=feature_names,\n",
    "                         class_names=target_names,     \n",
    "                         filled=True, rounded=True,  \n",
    "                         special_characters=True)  \n",
    "graph = graphviz.Source(dot_data)\n",
    "graph"
   ]
  },
  {
   "cell_type": "code",
   "execution_count": 11,
   "metadata": {},
   "outputs": [
    {
     "data": {
      "text/plain": [
       "'AnimalData_graph.pdf'"
      ]
     },
     "execution_count": 11,
     "metadata": {},
     "output_type": "execute_result"
    }
   ],
   "source": [
    "graph.render(\"AnimalData_graph\")"
   ]
  },
  {
   "cell_type": "markdown",
   "metadata": {},
   "source": [
    "** Gini Index **\n",
    "> $$ Gini Index = 1 - \\sum_{i} p_j^2$$\n",
    "> Gini Index is a metric to measure how often a randomly chosen element would be incorrectly identified.\n",
    "It means an attribute with lower gini index should be preferred.\n",
    "Sklearn supports “gini” criteria for Gini Index and by default, it takes “gini” value."
   ]
  },
  {
   "cell_type": "markdown",
   "metadata": {},
   "source": [
    "### 2. ID3 (Iterative Dichotomiser 3) → uses Entropy function and Information gain as metrics.\n",
    "\n",
    "**Entropy**\n",
    "> $$Entropy = -\\sum_{i=1}^{N} p_i{x_i}log_2p(x_i)$$\n",
    "> Entropy is the measure of uncertainty of a random variable, it characterizes the impurity of an arbitrary collection of examples. The higher the entropy the more the information content.\n",
    "\n",
    "** Information Gain**\n",
    ">The entropy typically changes when we use a node in a decision tree to partition the training instances into smaller subsets. Information gain is a measure of this change in entropy.\n",
    "Sklearn supports “entropy” criteria for Information Gain and if we want to use Information Gain method in sklearn then we have to mention it explicitly."
   ]
  },
  {
   "cell_type": "code",
   "execution_count": 12,
   "metadata": {},
   "outputs": [
    {
     "data": {
      "text/plain": [
       "DecisionTreeClassifier(class_weight=None, criterion='entropy', max_depth=3,\n",
       "            max_features=None, max_leaf_nodes=None,\n",
       "            min_impurity_decrease=0.0, min_impurity_split=None,\n",
       "            min_samples_leaf=5, min_samples_split=2,\n",
       "            min_weight_fraction_leaf=0.0, presort=False, random_state=100,\n",
       "            splitter='best')"
      ]
     },
     "execution_count": 12,
     "metadata": {},
     "output_type": "execute_result"
    }
   ],
   "source": [
    "clf_entropy = tree.DecisionTreeClassifier(\n",
    "            criterion = \"entropy\", random_state = 100,\n",
    "            max_depth = 3, min_samples_leaf = 5)\n",
    " \n",
    "# Performing training\n",
    "clf_entropy.fit(X_train, y_train)"
   ]
  },
  {
   "cell_type": "code",
   "execution_count": 13,
   "metadata": {},
   "outputs": [
    {
     "data": {
      "image/svg+xml": [
       "<?xml version=\"1.0\" encoding=\"UTF-8\" standalone=\"no\"?>\r\n",
       "<!DOCTYPE svg PUBLIC \"-//W3C//DTD SVG 1.1//EN\"\r\n",
       " \"http://www.w3.org/Graphics/SVG/1.1/DTD/svg11.dtd\">\r\n",
       "<!-- Generated by graphviz version 2.38.0 (20140413.2041)\r\n",
       " -->\r\n",
       "<!-- Title: Tree Pages: 1 -->\r\n",
       "<svg width=\"784pt\" height=\"433pt\"\r\n",
       " viewBox=\"0.00 0.00 784.00 433.00\" xmlns=\"http://www.w3.org/2000/svg\" xmlns:xlink=\"http://www.w3.org/1999/xlink\">\r\n",
       "<g id=\"graph0\" class=\"graph\" transform=\"scale(1 1) rotate(0) translate(4 429)\">\r\n",
       "<title>Tree</title>\r\n",
       "<polygon fill=\"white\" stroke=\"none\" points=\"-4,4 -4,-429 780,-429 780,4 -4,4\"/>\r\n",
       "<!-- 0 -->\r\n",
       "<g id=\"node1\" class=\"node\"><title>0</title>\r\n",
       "<path fill=\"#b139e5\" fill-opacity=\"0.211765\" stroke=\"black\" d=\"M577,-425C577,-425 401,-425 401,-425 395,-425 389,-419 389,-413 389,-413 389,-354 389,-354 389,-348 395,-342 401,-342 401,-342 577,-342 577,-342 583,-342 589,-348 589,-354 589,-354 589,-413 589,-413 589,-419 583,-425 577,-425\"/>\r\n",
       "<text text-anchor=\"start\" x=\"458.5\" y=\"-409.8\" font-family=\"Helvetica,sans-Serif\" font-size=\"14.00\">milk ≤ 0.5</text>\r\n",
       "<text text-anchor=\"start\" x=\"439\" y=\"-394.8\" font-family=\"Helvetica,sans-Serif\" font-size=\"14.00\">entropy = 2.445</text>\r\n",
       "<text text-anchor=\"start\" x=\"445.5\" y=\"-379.8\" font-family=\"Helvetica,sans-Serif\" font-size=\"14.00\">samples = 72</text>\r\n",
       "<text text-anchor=\"start\" x=\"397\" y=\"-364.8\" font-family=\"Helvetica,sans-Serif\" font-size=\"14.00\">value = [4, 15, 10, 4, 8, 27, 4]</text>\r\n",
       "<text text-anchor=\"start\" x=\"432\" y=\"-349.8\" font-family=\"Helvetica,sans-Serif\" font-size=\"14.00\">class = amphibian</text>\r\n",
       "</g>\r\n",
       "<!-- 1 -->\r\n",
       "<g id=\"node2\" class=\"node\"><title>1</title>\r\n",
       "<path fill=\"#b7e539\" fill-opacity=\"0.141176\" stroke=\"black\" d=\"M470,-306C470,-306 302,-306 302,-306 296,-306 290,-300 290,-294 290,-294 290,-235 290,-235 290,-229 296,-223 302,-223 302,-223 470,-223 470,-223 476,-223 482,-229 482,-235 482,-235 482,-294 482,-294 482,-300 476,-306 470,-306\"/>\r\n",
       "<text text-anchor=\"start\" x=\"344\" y=\"-290.8\" font-family=\"Helvetica,sans-Serif\" font-size=\"14.00\">toothed ≤ 0.5</text>\r\n",
       "<text text-anchor=\"start\" x=\"336\" y=\"-275.8\" font-family=\"Helvetica,sans-Serif\" font-size=\"14.00\">entropy = 2.385</text>\r\n",
       "<text text-anchor=\"start\" x=\"342.5\" y=\"-260.8\" font-family=\"Helvetica,sans-Serif\" font-size=\"14.00\">samples = 45</text>\r\n",
       "<text text-anchor=\"start\" x=\"298\" y=\"-245.8\" font-family=\"Helvetica,sans-Serif\" font-size=\"14.00\">value = [4, 15, 10, 4, 8, 0, 4]</text>\r\n",
       "<text text-anchor=\"start\" x=\"350\" y=\"-230.8\" font-family=\"Helvetica,sans-Serif\" font-size=\"14.00\">class = fish</text>\r\n",
       "</g>\r\n",
       "<!-- 0&#45;&gt;1 -->\r\n",
       "<g id=\"edge1\" class=\"edge\"><title>0&#45;&gt;1</title>\r\n",
       "<path fill=\"none\" stroke=\"black\" d=\"M453.265,-341.907C445.275,-332.832 436.726,-323.121 428.494,-313.769\"/>\r\n",
       "<polygon fill=\"black\" stroke=\"black\" points=\"430.907,-311.214 421.672,-306.021 425.653,-315.839 430.907,-311.214\"/>\r\n",
       "<text text-anchor=\"middle\" x=\"420.084\" y=\"-327.27\" font-family=\"Helvetica,sans-Serif\" font-size=\"14.00\">True</text>\r\n",
       "</g>\r\n",
       "<!-- 8 -->\r\n",
       "<g id=\"node9\" class=\"node\"><title>8</title>\r\n",
       "<path fill=\"#b139e5\" stroke=\"black\" d=\"M672,-298.5C672,-298.5 512,-298.5 512,-298.5 506,-298.5 500,-292.5 500,-286.5 500,-286.5 500,-242.5 500,-242.5 500,-236.5 506,-230.5 512,-230.5 512,-230.5 672,-230.5 672,-230.5 678,-230.5 684,-236.5 684,-242.5 684,-242.5 684,-286.5 684,-286.5 684,-292.5 678,-298.5 672,-298.5\"/>\r\n",
       "<text text-anchor=\"start\" x=\"550\" y=\"-283.3\" font-family=\"Helvetica,sans-Serif\" font-size=\"14.00\">entropy = 0.0</text>\r\n",
       "<text text-anchor=\"start\" x=\"548.5\" y=\"-268.3\" font-family=\"Helvetica,sans-Serif\" font-size=\"14.00\">samples = 27</text>\r\n",
       "<text text-anchor=\"start\" x=\"508\" y=\"-253.3\" font-family=\"Helvetica,sans-Serif\" font-size=\"14.00\">value = [0, 0, 0, 0, 0, 27, 0]</text>\r\n",
       "<text text-anchor=\"start\" x=\"535\" y=\"-238.3\" font-family=\"Helvetica,sans-Serif\" font-size=\"14.00\">class = amphibian</text>\r\n",
       "</g>\r\n",
       "<!-- 0&#45;&gt;8 -->\r\n",
       "<g id=\"edge8\" class=\"edge\"><title>0&#45;&gt;8</title>\r\n",
       "<path fill=\"none\" stroke=\"black\" d=\"M524.735,-341.907C534.838,-330.432 545.836,-317.938 555.957,-306.442\"/>\r\n",
       "<polygon fill=\"black\" stroke=\"black\" points=\"558.821,-308.486 562.802,-298.667 553.567,-303.86 558.821,-308.486\"/>\r\n",
       "<text text-anchor=\"middle\" x=\"564.389\" y=\"-319.916\" font-family=\"Helvetica,sans-Serif\" font-size=\"14.00\">False</text>\r\n",
       "</g>\r\n",
       "<!-- 2 -->\r\n",
       "<g id=\"node3\" class=\"node\"><title>2</title>\r\n",
       "<path fill=\"#b7e539\" fill-opacity=\"0.368627\" stroke=\"black\" d=\"M365,-187C365,-187 205,-187 205,-187 199,-187 193,-181 193,-175 193,-175 193,-116 193,-116 193,-110 199,-104 205,-104 205,-104 365,-104 365,-104 371,-104 377,-110 377,-116 377,-116 377,-175 377,-175 377,-181 371,-187 365,-187\"/>\r\n",
       "<text text-anchor=\"start\" x=\"241\" y=\"-171.8\" font-family=\"Helvetica,sans-Serif\" font-size=\"14.00\">feathers ≤ 0.5</text>\r\n",
       "<text text-anchor=\"start\" x=\"235\" y=\"-156.8\" font-family=\"Helvetica,sans-Serif\" font-size=\"14.00\">entropy = 1.399</text>\r\n",
       "<text text-anchor=\"start\" x=\"241.5\" y=\"-141.8\" font-family=\"Helvetica,sans-Serif\" font-size=\"14.00\">samples = 27</text>\r\n",
       "<text text-anchor=\"start\" x=\"201\" y=\"-126.8\" font-family=\"Helvetica,sans-Serif\" font-size=\"14.00\">value = [0, 15, 0, 4, 8, 0, 0]</text>\r\n",
       "<text text-anchor=\"start\" x=\"249\" y=\"-111.8\" font-family=\"Helvetica,sans-Serif\" font-size=\"14.00\">class = fish</text>\r\n",
       "</g>\r\n",
       "<!-- 1&#45;&gt;2 -->\r\n",
       "<g id=\"edge2\" class=\"edge\"><title>1&#45;&gt;2</title>\r\n",
       "<path fill=\"none\" stroke=\"black\" d=\"M350.959,-222.907C343.124,-213.832 334.741,-204.121 326.669,-194.769\"/>\r\n",
       "<polygon fill=\"black\" stroke=\"black\" points=\"329.163,-192.303 319.98,-187.021 323.865,-196.878 329.163,-192.303\"/>\r\n",
       "</g>\r\n",
       "<!-- 5 -->\r\n",
       "<g id=\"node6\" class=\"node\"><title>5</title>\r\n",
       "<path fill=\"#39e54d\" fill-opacity=\"0.427451\" stroke=\"black\" d=\"M567,-187C567,-187 407,-187 407,-187 401,-187 395,-181 395,-175 395,-175 395,-116 395,-116 395,-110 401,-104 407,-104 407,-104 567,-104 567,-104 573,-104 579,-110 579,-116 579,-116 579,-175 579,-175 579,-181 573,-187 567,-187\"/>\r\n",
       "<text text-anchor=\"start\" x=\"458\" y=\"-171.8\" font-family=\"Helvetica,sans-Serif\" font-size=\"14.00\">fins ≤ 0.5</text>\r\n",
       "<text text-anchor=\"start\" x=\"437\" y=\"-156.8\" font-family=\"Helvetica,sans-Serif\" font-size=\"14.00\">entropy = 1.436</text>\r\n",
       "<text text-anchor=\"start\" x=\"443.5\" y=\"-141.8\" font-family=\"Helvetica,sans-Serif\" font-size=\"14.00\">samples = 18</text>\r\n",
       "<text text-anchor=\"start\" x=\"403\" y=\"-126.8\" font-family=\"Helvetica,sans-Serif\" font-size=\"14.00\">value = [4, 0, 10, 0, 0, 0, 4]</text>\r\n",
       "<text text-anchor=\"start\" x=\"450.5\" y=\"-111.8\" font-family=\"Helvetica,sans-Serif\" font-size=\"14.00\">class = bird</text>\r\n",
       "</g>\r\n",
       "<!-- 1&#45;&gt;5 -->\r\n",
       "<g id=\"edge5\" class=\"edge\"><title>1&#45;&gt;5</title>\r\n",
       "<path fill=\"none\" stroke=\"black\" d=\"M421.041,-222.907C428.876,-213.832 437.259,-204.121 445.331,-194.769\"/>\r\n",
       "<polygon fill=\"black\" stroke=\"black\" points=\"448.135,-196.878 452.02,-187.021 442.837,-192.303 448.135,-196.878\"/>\r\n",
       "</g>\r\n",
       "<!-- 3 -->\r\n",
       "<g id=\"node4\" class=\"node\"><title>3</title>\r\n",
       "<path fill=\"#3956e5\" fill-opacity=\"0.498039\" stroke=\"black\" d=\"M164,-68C164,-68 12,-68 12,-68 6,-68 0,-62 0,-56 0,-56 0,-12 0,-12 0,-6 6,-0 12,-0 12,-0 164,-0 164,-0 170,-0 176,-6 176,-12 176,-12 176,-56 176,-56 176,-62 170,-68 164,-68\"/>\r\n",
       "<text text-anchor=\"start\" x=\"38\" y=\"-52.8\" font-family=\"Helvetica,sans-Serif\" font-size=\"14.00\">entropy = 0.918</text>\r\n",
       "<text text-anchor=\"start\" x=\"44.5\" y=\"-37.8\" font-family=\"Helvetica,sans-Serif\" font-size=\"14.00\">samples = 12</text>\r\n",
       "<text text-anchor=\"start\" x=\"8\" y=\"-22.8\" font-family=\"Helvetica,sans-Serif\" font-size=\"14.00\">value = [0, 0, 0, 4, 8, 0, 0]</text>\r\n",
       "<text text-anchor=\"start\" x=\"44.5\" y=\"-7.8\" font-family=\"Helvetica,sans-Serif\" font-size=\"14.00\">class = insect</text>\r\n",
       "</g>\r\n",
       "<!-- 2&#45;&gt;3 -->\r\n",
       "<g id=\"edge3\" class=\"edge\"><title>2&#45;&gt;3</title>\r\n",
       "<path fill=\"none\" stroke=\"black\" d=\"M211.924,-103.882C193.835,-93.8269 174.517,-83.0892 156.647,-73.1563\"/>\r\n",
       "<polygon fill=\"black\" stroke=\"black\" points=\"157.889,-69.8425 147.448,-68.0433 154.488,-75.9609 157.889,-69.8425\"/>\r\n",
       "</g>\r\n",
       "<!-- 4 -->\r\n",
       "<g id=\"node5\" class=\"node\"><title>4</title>\r\n",
       "<path fill=\"#b7e539\" stroke=\"black\" d=\"M366,-68C366,-68 206,-68 206,-68 200,-68 194,-62 194,-56 194,-56 194,-12 194,-12 194,-6 200,-0 206,-0 206,-0 366,-0 366,-0 372,-0 378,-6 378,-12 378,-12 378,-56 378,-56 378,-62 372,-68 366,-68\"/>\r\n",
       "<text text-anchor=\"start\" x=\"244\" y=\"-52.8\" font-family=\"Helvetica,sans-Serif\" font-size=\"14.00\">entropy = 0.0</text>\r\n",
       "<text text-anchor=\"start\" x=\"242.5\" y=\"-37.8\" font-family=\"Helvetica,sans-Serif\" font-size=\"14.00\">samples = 15</text>\r\n",
       "<text text-anchor=\"start\" x=\"202\" y=\"-22.8\" font-family=\"Helvetica,sans-Serif\" font-size=\"14.00\">value = [0, 15, 0, 0, 0, 0, 0]</text>\r\n",
       "<text text-anchor=\"start\" x=\"250\" y=\"-7.8\" font-family=\"Helvetica,sans-Serif\" font-size=\"14.00\">class = fish</text>\r\n",
       "</g>\r\n",
       "<!-- 2&#45;&gt;4 -->\r\n",
       "<g id=\"edge4\" class=\"edge\"><title>2&#45;&gt;4</title>\r\n",
       "<path fill=\"none\" stroke=\"black\" d=\"M285.372,-103.726C285.447,-95.5175 285.526,-86.8595 285.602,-78.56\"/>\r\n",
       "<polygon fill=\"black\" stroke=\"black\" points=\"289.104,-78.3312 285.696,-68.2996 282.105,-78.2672 289.104,-78.3312\"/>\r\n",
       "</g>\r\n",
       "<!-- 6 -->\r\n",
       "<g id=\"node7\" class=\"node\"><title>6</title>\r\n",
       "<path fill=\"none\" stroke=\"black\" d=\"M562,-68C562,-68 410,-68 410,-68 404,-68 398,-62 398,-56 398,-56 398,-12 398,-12 398,-6 404,-0 410,-0 410,-0 562,-0 562,-0 568,-0 574,-6 574,-12 574,-12 574,-56 574,-56 574,-62 568,-68 562,-68\"/>\r\n",
       "<text text-anchor=\"start\" x=\"444\" y=\"-52.8\" font-family=\"Helvetica,sans-Serif\" font-size=\"14.00\">entropy = 1.0</text>\r\n",
       "<text text-anchor=\"start\" x=\"446.5\" y=\"-37.8\" font-family=\"Helvetica,sans-Serif\" font-size=\"14.00\">samples = 8</text>\r\n",
       "<text text-anchor=\"start\" x=\"406\" y=\"-22.8\" font-family=\"Helvetica,sans-Serif\" font-size=\"14.00\">value = [4, 0, 0, 0, 0, 0, 4]</text>\r\n",
       "<text text-anchor=\"start\" x=\"434.5\" y=\"-7.8\" font-family=\"Helvetica,sans-Serif\" font-size=\"14.00\">class = mammal</text>\r\n",
       "</g>\r\n",
       "<!-- 5&#45;&gt;6 -->\r\n",
       "<g id=\"edge6\" class=\"edge\"><title>5&#45;&gt;6</title>\r\n",
       "<path fill=\"none\" stroke=\"black\" d=\"M486.628,-103.726C486.553,-95.5175 486.474,-86.8595 486.398,-78.56\"/>\r\n",
       "<polygon fill=\"black\" stroke=\"black\" points=\"489.895,-78.2672 486.304,-68.2996 482.896,-78.3312 489.895,-78.2672\"/>\r\n",
       "</g>\r\n",
       "<!-- 7 -->\r\n",
       "<g id=\"node8\" class=\"node\"><title>7</title>\r\n",
       "<path fill=\"#39e54d\" stroke=\"black\" d=\"M764,-68C764,-68 604,-68 604,-68 598,-68 592,-62 592,-56 592,-56 592,-12 592,-12 592,-6 598,-0 604,-0 604,-0 764,-0 764,-0 770,-0 776,-6 776,-12 776,-12 776,-56 776,-56 776,-62 770,-68 764,-68\"/>\r\n",
       "<text text-anchor=\"start\" x=\"642\" y=\"-52.8\" font-family=\"Helvetica,sans-Serif\" font-size=\"14.00\">entropy = 0.0</text>\r\n",
       "<text text-anchor=\"start\" x=\"640.5\" y=\"-37.8\" font-family=\"Helvetica,sans-Serif\" font-size=\"14.00\">samples = 10</text>\r\n",
       "<text text-anchor=\"start\" x=\"600\" y=\"-22.8\" font-family=\"Helvetica,sans-Serif\" font-size=\"14.00\">value = [0, 0, 10, 0, 0, 0, 0]</text>\r\n",
       "<text text-anchor=\"start\" x=\"647.5\" y=\"-7.8\" font-family=\"Helvetica,sans-Serif\" font-size=\"14.00\">class = bird</text>\r\n",
       "</g>\r\n",
       "<!-- 5&#45;&gt;7 -->\r\n",
       "<g id=\"edge7\" class=\"edge\"><title>5&#45;&gt;7</title>\r\n",
       "<path fill=\"none\" stroke=\"black\" d=\"M560.076,-103.882C578.165,-93.8269 597.483,-83.0892 615.353,-73.1563\"/>\r\n",
       "<polygon fill=\"black\" stroke=\"black\" points=\"617.512,-75.9609 624.552,-68.0433 614.111,-69.8425 617.512,-75.9609\"/>\r\n",
       "</g>\r\n",
       "</g>\r\n",
       "</svg>\r\n"
      ],
      "text/plain": [
       "<graphviz.files.Source at 0x1cdbba3aba8>"
      ]
     },
     "execution_count": 13,
     "metadata": {},
     "output_type": "execute_result"
    }
   ],
   "source": [
    "dot_data = tree.export_graphviz(clf_entropy, out_file=None, \n",
    "                         feature_names=feature_names,\n",
    "                         class_names=target_names,     \n",
    "                         filled=True, rounded=True,  \n",
    "                         special_characters=True)  \n",
    "graph = graphviz.Source(dot_data)\n",
    "graph"
   ]
  },
  {
   "cell_type": "markdown",
   "metadata": {},
   "source": [
    "** Entropy & Information Gain**\n"
   ]
  },
  {
   "cell_type": "code",
   "execution_count": 14,
   "metadata": {
    "collapsed": true
   },
   "outputs": [],
   "source": [
    "def entropy(attribute_data):\n",
    "    \"\"\"\n",
    "    Calculate Shannon entropy\n",
    "    :param attribute_data: data from a single feature/attribute\n",
    "    :return: a float representing the Shannon entropy\n",
    "    \"\"\"\n",
    "    _, val_freqs = np.unique(attribute_data, return_counts=True)\n",
    "    # probabilities for each unique attribute value\n",
    "    val_probs = val_freqs / len(attribute_data)\n",
    "    return -val_probs.dot(np.log(val_probs))\n",
    "\n",
    "def info_gain(attribute_data, labels):\n",
    "    \"\"\"\n",
    "    Calculate information gain\n",
    "    :param attribute_data: data from single attribute\n",
    "    :param labels:\n",
    "    :return: a float representing information gain\n",
    "    \"\"\"\n",
    "    attr_val_counts = get_count_dict(attribute_data)\n",
    "    total_count = len(labels)\n",
    "    EA = 0.0\n",
    "    for attr_val, attr_val_count in attr_val_counts.items():\n",
    "        EA += attr_val_count * entropy(labels[attribute_data == attr_val])\n",
    "    return entropy(labels) - EA / total_count\n",
    "\n",
    "def get_count_dict(data):\n",
    "    \"\"\"\n",
    "    Return the unique values and their frequencies as a dictionary\n",
    "    :param data: a 1-D numpy array\n",
    "    :return:\n",
    "    \"\"\"\n",
    "    data_values, data_freqs = np.unique(data, return_counts=True)\n",
    "    return dict(zip(data_values, data_freqs))"
   ]
  },
  {
   "cell_type": "code",
   "execution_count": 15,
   "metadata": {},
   "outputs": [
    {
     "name": "stdout",
     "output_type": "stream",
     "text": [
      "Info_gain for milk attribute: 0.677709943131\n"
     ]
    }
   ],
   "source": [
    "print(\"Info_gain for milk attribute:\",info_gain(data_df['milk'],target_df))"
   ]
  },
  {
   "cell_type": "markdown",
   "metadata": {},
   "source": [
    "** Note **<br>\n",
    "I haven't implemented gini, entropy and info gain calculation method in this note book. But for calculation understanding you can refer the link https://www.dezyre.com/data-science-in-r-programming-tutorial/decision-tree-tutorial"
   ]
  },
  {
   "cell_type": "markdown",
   "metadata": {},
   "source": [
    "There are other Metrics like Chi-square gain score etc.<br>\n",
    "Next question or confusion arises when we have to choose any one of them. There are a few drawbacks associated with all  of the metrics based on the data we have to choose the matrices.\n",
    "Some drawbacks of metrics are\n",
    "- Information Gain:\tInformation Gain is biased towards multivariate attributes.\n",
    "- Gain Ratio:\tGain Ratio generally prefers the unbalanced split of data where one of the child node has more number of entries compared to the others.\n",
    "- Gini Index:\tWith more than 2 categories in the dataset, Gini Index gives unfavorable results. Apart from that it favors the split which results into equal sized children."
   ]
  },
  {
   "cell_type": "markdown",
   "metadata": {},
   "source": [
    "#### Prediction"
   ]
  },
  {
   "cell_type": "code",
   "execution_count": 16,
   "metadata": {},
   "outputs": [
    {
     "name": "stdout",
     "output_type": "stream",
     "text": [
      "Predicted values:\n",
      "['mammal' 'mammal' 'bird' 'fish' 'insect' 'bird' 'mammal' 'mammal' 'mammal'\n",
      " 'reptile' 'mammal' 'mammal' 'bird' 'mammal' 'mammal' 'insect' 'mammal'\n",
      " 'fish' 'fish' 'mammal' 'mammal' 'bird' 'insect' 'mammal' 'insect']\n"
     ]
    }
   ],
   "source": [
    "y_pred = clf.predict(X_test)\n",
    "print(\"Predicted values:\")\n",
    "print(y_pred)"
   ]
  },
  {
   "cell_type": "markdown",
   "metadata": {},
   "source": [
    "## 3. Evaluation of classification metrics"
   ]
  },
  {
   "cell_type": "markdown",
   "metadata": {},
   "source": [
    "#### 1. Accuracy score\n",
    "In multilabel classification, the function returns the subset accuracy. If the entire set of predicted labels for a sample strictly match with the true set of labels, then the subset accuracy is 1.0; otherwise it is 0.0."
   ]
  },
  {
   "cell_type": "code",
   "execution_count": 17,
   "metadata": {},
   "outputs": [
    {
     "name": "stdout",
     "output_type": "stream",
     "text": [
      "Accuracy score for model is:  0.96\n"
     ]
    }
   ],
   "source": [
    "from sklearn.metrics import accuracy_score\n",
    "\n",
    "print(\"Accuracy score for model is: \", accuracy_score(y_test, y_pred))"
   ]
  },
  {
   "cell_type": "code",
   "execution_count": 18,
   "metadata": {
    "collapsed": true
   },
   "outputs": [],
   "source": [
    "# function to model it many times and build a distribution of scores\n",
    "def accuracy_distribution(features, labels, num_reps, classifier):\n",
    "    model_accuracies = []\n",
    "    for rep in range(num_reps):\n",
    "        (X_train_tmp, X_test_tmp, y_train_tmp, y_test_tmp) = train_test_split(features, labels, train_size=0.8, test_size=0.2)\n",
    "        model_tmp = classifier\n",
    "        model_tmp = model_tmp.fit(X_train_tmp, y_train_tmp)\n",
    "        acc = model_tmp.score(X_test_tmp, y_test_tmp)\n",
    "        model_accuracies.append(acc)\n",
    "\n",
    "    ax = plt.figure(figsize=(14, 10))\n",
    "    ax = sb.distplot(model_accuracies)\n",
    "    ax = plt.title('Distribution of accuracies for {} runs'.format(num_reps))"
   ]
  },
  {
   "cell_type": "code",
   "execution_count": 19,
   "metadata": {},
   "outputs": [
    {
     "data": {
      "image/png": "[encoded data removed]",
      "text/plain": [
       "<matplotlib.figure.Figure at 0x1cdbbd30278>"
      ]
     },
     "metadata": {},
     "output_type": "display_data"
    }
   ],
   "source": [
    "accuracy_distribution(X_train, y_train, 100, clf)"
   ]
  },
  {
   "cell_type": "markdown",
   "metadata": {},
   "source": [
    "#### 2. Cohen's kappa\n",
    "Cohen's kappa coefficient (κ) is a statistic which measures inter-rater agreement for qualitative (categorical) items. It is generally thought to be a more robust measure than simple percent agreement calculation, as κ takes into account the possibility of the agreement occurring by chance. <br>\n",
    "The kappa score (see docstring) is a number between -1 and 1. Scores above .8 are generally considered good agreement; zero or lower means no agreement (practically random labels)."
   ]
  },
  {
   "cell_type": "code",
   "execution_count": 20,
   "metadata": {},
   "outputs": [
    {
     "name": "stdout",
     "output_type": "stream",
     "text": [
      "Cohen's kappa for our model is :  0.94019138756\n"
     ]
    }
   ],
   "source": [
    "from sklearn.metrics import cohen_kappa_score\n",
    "\n",
    "print(\"Cohen's kappa for our model is : \", cohen_kappa_score(y_test, y_pred))"
   ]
  },
  {
   "cell_type": "markdown",
   "metadata": {},
   "source": [
    "#### 3. Confusion matrix\n",
    "also known as an error matrix, is a specific table layout that allows visualization of the performance of an algorithm. Each row of the matrix represents the instances in a predicted class while each column represents the instances in an actual class (or vice versa)"
   ]
  },
  {
   "cell_type": "code",
   "execution_count": 21,
   "metadata": {
    "collapsed": true
   },
   "outputs": [],
   "source": [
    "import itertools\n",
    "from sklearn.metrics import confusion_matrix\n",
    "\n",
    "# function to plot confusion matrix\n",
    "def plot_confusion_matrix(cm, classes,\n",
    "                          normalize=False,\n",
    "                          title='Confusion matrix',\n",
    "                          cmap=plt.cm.Blues):\n",
    "    \"\"\"\n",
    "    This function prints and plots the confusion matrix.\n",
    "    Normalization can be applied by setting `normalize=True`.\n",
    "    \"\"\"\n",
    "    if normalize:\n",
    "        cm = cm.astype('float') / cm.sum(axis=1)[:, np.newaxis]\n",
    "#        print(\"Normalized confusion matrix\")\n",
    "#    else:\n",
    "#        print('Confusion matrix, without normalization')\n",
    "#    print(cm)\n",
    "\n",
    "    plt.imshow(cm, interpolation='nearest', cmap=cmap)\n",
    "    plt.title(title)\n",
    "    plt.colorbar()\n",
    "    tick_marks = np.arange(len(classes))\n",
    "    plt.xticks(tick_marks, classes, rotation=45)\n",
    "    plt.yticks(tick_marks, classes)\n",
    "\n",
    "    fmt = '.2f' if normalize else 'd'\n",
    "    thresh = cm.max() / 2.\n",
    "    for i, j in itertools.product(range(cm.shape[0]), range(cm.shape[1])):\n",
    "        plt.text(j, i, format(cm[i, j], fmt),\n",
    "                 horizontalalignment=\"center\",\n",
    "                 color=\"white\" if cm[i, j] > thresh else \"black\")\n",
    "    fig = plt.gcf()\n",
    "    fig.set_size_inches(18.5, 10.5)\n",
    "    plt.tight_layout()\n",
    "    plt.ylabel('True label')\n",
    "    plt.xlabel('Predicted label')"
   ]
  },
  {
   "cell_type": "code",
   "execution_count": 22,
   "metadata": {},
   "outputs": [
    {
     "data": {
      "image/png": "[encoded data removed]",
      "text/plain": [
       "<matplotlib.figure.Figure at 0x1cdbc9780b8>"
      ]
     },
     "metadata": {},
     "output_type": "display_data"
    }
   ],
   "source": [
    "cm = confusion_matrix(y_test, y_pred)\n",
    "plot_confusion_matrix(cm, classes=target_names, normalize=False, title='Confusion matrix')"
   ]
  },
  {
   "cell_type": "markdown",
   "metadata": {},
   "source": [
    "#### 4. classification report"
   ]
  },
  {
   "cell_type": "code",
   "execution_count": 23,
   "metadata": {},
   "outputs": [
    {
     "name": "stdout",
     "output_type": "stream",
     "text": [
      "              precision    recall  f1-score   support\n",
      "\n",
      "        bird       1.00      1.00      1.00         4\n",
      "        fish       1.00      1.00      1.00         3\n",
      "      insect       0.75      1.00      0.86         3\n",
      "invertebrate       0.00      0.00      0.00         1\n",
      "      mammal       1.00      1.00      1.00        13\n",
      "     reptile       1.00      1.00      1.00         1\n",
      "\n",
      " avg / total       0.93      0.96      0.94        25\n",
      "\n"
     ]
    },
    {
     "name": "stderr",
     "output_type": "stream",
     "text": [
      "C:\\Users\\jaypate\\AppData\\Local\\Continuum\\anaconda3\\lib\\site-packages\\sklearn\\metrics\\classification.py:1135: UndefinedMetricWarning: Precision and F-score are ill-defined and being set to 0.0 in labels with no predicted samples.\n",
      "  'precision', 'predicted', average, warn_for)\n"
     ]
    }
   ],
   "source": [
    "from sklearn.metrics import classification_report\n",
    "\n",
    "print(classification_report(y_test, y_pred))"
   ]
  },
  {
   "cell_type": "markdown",
   "metadata": {},
   "source": [
    "#### Top 10 Most Important Features"
   ]
  },
  {
   "cell_type": "code",
   "execution_count": 24,
   "metadata": {},
   "outputs": [
    {
     "data": {
      "image/png": "[encoded data removed]",
      "text/plain": [
       "<matplotlib.figure.Figure at 0x1cdbc978080>"
      ]
     },
     "metadata": {},
     "output_type": "display_data"
    }
   ],
   "source": [
    "features = X_train.columns\n",
    "importances = clf.feature_importances_\n",
    "indices = np.argsort(importances)[-10:]\n",
    "d = pd.DataFrame(importances[indices])\n",
    "\n",
    "plt.rcParams[\"figure.figsize\"] = (20,20)\n",
    "ax = d.plot(kind = 'barh')\n",
    "ax = plt.title('Top 10 Most Important Features')\n",
    "ax = plt.yticks(range(len(indices)), features[indices])\n",
    "ax = plt.xlabel('Relative Importance')"
   ]
  },
  {
   "cell_type": "code",
   "execution_count": null,
   "metadata": {
    "collapsed": true
   },
   "outputs": [],
   "source": []
  }
 ],
 "metadata": {
  "kernelspec": {
   "display_name": "Python 3",
   "language": "python",
   "name": "python3"
  },
  "language_info": {
   "codemirror_mode": {
    "name": "ipython",
    "version": 3
   },
   "file_extension": ".py",
   "mimetype": "text/x-python",
   "name": "python",
   "nbconvert_exporter": "python",
   "pygments_lexer": "ipython3",
   "version": "3.6.3"
  }
 },
 "nbformat": 4,
 "nbformat_minor": 2
}
